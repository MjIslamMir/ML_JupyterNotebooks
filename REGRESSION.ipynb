{
  "nbformat": 4,
  "nbformat_minor": 0,
  "metadata": {
    "colab": {
      "name": "REGRESSION.ipynb",
      "provenance": []
    },
    "kernelspec": {
      "name": "python3",
      "display_name": "Python 3"
    },
    "language_info": {
      "name": "python"
    }
  },
  "cells": [
    {
      "cell_type": "markdown",
      "source": [
        "#LINEAR REGRESSION"
      ],
      "metadata": {
        "id": "TntpmUfKYhxC"
      }
    },
    {
      "cell_type": "code",
      "source": [
        "# TODO: Add import statements\n",
        "import pandas as pd\n",
        "from sklearn.linear_model import LinearRegression\n",
        "\n",
        "# Assign the dataframe to this variable.\n",
        "# TODO: Load the data\n",
        "bmi_life_data = pd.read_csv(\"bmi_and_life_expectancy.csv\")\n",
        "\n",
        "# Make and fit the linear regression model\n",
        "#TODO: Fit the model and Assign it to bmi_life_model\n",
        "bmi_life_model = LinearRegression()\n",
        "# Make a prediction using the model\n",
        "\n",
        "bmi_life_model.fit(bmi_life_data[['BMI']], bmi_life_data[['Life expectancy']])\n",
        "# TODO: Predict life expectancy for a BMI value of 21.07931\n",
        "laos_life_exp = bmi_life_model.predict(21.07931)"
      ],
      "metadata": {
        "id": "qG56bGY-Yndb"
      },
      "execution_count": null,
      "outputs": []
    },
    {
      "cell_type": "markdown",
      "source": [
        "#POLYNOMIAL REGRESSION"
      ],
      "metadata": {
        "id": "vP7C0-NcYDqu"
      }
    },
    {
      "cell_type": "code",
      "source": [
        "# TODO: Add import statements\n",
        "import numpy as np\n",
        "import pandas as pd\n",
        "from sklearn.preprocessing import PolynomialFeatures\n",
        "from sklearn.linear_model import LinearRegression\n",
        "# Assign the data to predictor and outcome variables\n",
        "# TODO: Load the data\n",
        "train_data = pd.read_csv('data.csv')\n",
        "X = train_data['Var_X'].values.reshape(-1, 1)\n",
        "y = train_data['Var_Y'].values\n",
        "\n",
        "# Create polynomial features\n",
        "# TODO: Create a PolynomialFeatures object, then fit and transform the\n",
        "# predictor feature\n",
        "poly_feat = PolynomialFeatures(degree = 4)\n",
        "X_poly = poly_feat.fit_transform(X)\n",
        "\n",
        "# Make and fit the polynomial regression model\n",
        "# TODO: Create a LinearRegression object and fit it to the polynomial predictor\n",
        "# features\n",
        "\n",
        "\n",
        "# Once you've completed all of the steps, select Test Run to see your model\n",
        "# predictions against the data, or select Submit Answer to check if the degree\n",
        "# of the polynomial features is the same as ours!\n",
        "poly_model = LinearRegression(fit_intercept = False).fit(X_poly, y)"
      ],
      "metadata": {
        "id": "QkTxVu_BYY9U"
      },
      "execution_count": null,
      "outputs": []
    },
    {
      "cell_type": "markdown",
      "source": [
        "#REGULARIZATION"
      ],
      "metadata": {
        "id": "VIVex0NLYv1B"
      }
    },
    {
      "cell_type": "code",
      "source": [
        "# TODO: Add import statements\n",
        "\n",
        "import numpy as np\n",
        "import pandas as pd\n",
        "from sklearn.linear_model import Lasso\n",
        "# Assign the data to predictor and outcome variables\n",
        "# TODO: Load the data\n",
        "train_data =pd.read_csv('data.csv', header = None) \n",
        "X = train_data.iloc[:,:-1]\n",
        "y = train_data.iloc[:,-1]\n",
        "\n",
        "# TODO: Create the linear regression model with lasso regularization.\n",
        "lasso_reg = Lasso()\n",
        "\n",
        "# TODO: Fit the model.\n",
        "\n",
        "lasso_reg.fit(X,y)\n",
        "# TODO: Retrieve and print out the coefficients from the regression model.\n",
        "reg_coef = lasso_reg.coef_\n",
        "print(reg_coef)"
      ],
      "metadata": {
        "id": "z61HXFM-YzTw"
      },
      "execution_count": null,
      "outputs": []
    },
    {
      "cell_type": "markdown",
      "source": [
        "#FEATURE SCALING"
      ],
      "metadata": {
        "id": "1v8erFoBX8mG"
      }
    },
    {
      "cell_type": "code",
      "execution_count": null,
      "metadata": {
        "id": "TNZH6rT9X4iZ"
      },
      "outputs": [],
      "source": [
        "# TODO: Add import statements\n",
        "\n",
        "import numpy as np\n",
        "import pandas as pd\n",
        "from sklearn.linear_model import Lasso\n",
        "from sklearn.preprocessing import StandardScaler\n",
        "# Assign the data to predictor and outcome variables\n",
        "# TODO: Load the data\n",
        "train_data = pd.read_csv('data.csv', header = None)\n",
        "X = train_data.iloc[:,:-1]\n",
        "y = train_data.iloc[:,-1]\n",
        "\n",
        "# TODO: Create the standardization scaling object.\n",
        "scaler = StandardScaler()\n",
        "\n",
        "# TODO: Fit the standardization parameters and scale the data.\n",
        "X_scaled = scaler.fit_transform(X)\n",
        "\n",
        "# TODO: Create the linear regression model with lasso regularization.\n",
        "lasso_reg = Lasso()\n",
        "\n",
        "# TODO: Fit the model.\n",
        "lasso_reg.fit(X_scaled, y)\n",
        "\n",
        "# TODO: Retrieve and print out the coefficients from the regression model.\n",
        "reg_coef = lasso_reg.coef_\n",
        "print(reg_coef)"
      ]
    }
  ]
}