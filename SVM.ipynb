{
  "nbformat": 4,
  "nbformat_minor": 0,
  "metadata": {
    "colab": {
      "name": "SVM.ipynb",
      "provenance": [],
      "collapsed_sections": []
    },
    "kernelspec": {
      "name": "python3",
      "display_name": "Python 3"
    },
    "language_info": {
      "name": "python"
    }
  },
  "cells": [
    {
      "cell_type": "markdown",
      "source": [
        "#SVM"
      ],
      "metadata": {
        "id": "bLzsZcRMrYA3"
      }
    },
    {
      "cell_type": "code",
      "execution_count": null,
      "metadata": {
        "id": "hzl3os-zrW3O"
      },
      "outputs": [],
      "source": [
        "# Import statements \n",
        "from sklearn.svm import SVC\n",
        "from sklearn.metrics import accuracy_score\n",
        "import pandas as pd\n",
        "import numpy as np\n",
        "\n",
        "# Read the data.\n",
        "data = np.asarray(pd.read_csv('data.csv', header=None))\n",
        "# Assign the features to the variable X, and the labels to the variable y. \n",
        "X = data[:,0:2]\n",
        "y = data[:,2]\n",
        "\n",
        "# TODO: Create the model and assign it to the variable model.\n",
        "# Find the right parameters for this model to achieve 100% accuracy on the dataset.\n",
        "model = SVC(kernel='rbf', gamma=30)\n",
        "\n",
        "# TODO: Fit the model.\n",
        "model.fit(X,y)\n",
        "# TODO: Make predictions. Store them in the variable y_pred.\n",
        "y_pred = model.predict(X)\n",
        "\n",
        "# TODO: Calculate the accuracy and assign it to the variable acc.\n",
        "acc = accuracy_score(y,y_pred)"
      ]
    }
  ]
}