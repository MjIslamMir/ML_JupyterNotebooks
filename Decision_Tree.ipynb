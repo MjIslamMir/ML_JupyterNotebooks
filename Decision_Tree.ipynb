{
  "nbformat": 4,
  "nbformat_minor": 0,
  "metadata": {
    "colab": {
      "name": "Decision Tree.ipynb",
      "provenance": [],
      "collapsed_sections": []
    },
    "kernelspec": {
      "name": "python3",
      "display_name": "Python 3"
    },
    "language_info": {
      "name": "python"
    }
  },
  "cells": [
    {
      "cell_type": "markdown",
      "source": [
        "#Decision Tree"
      ],
      "metadata": {
        "id": "c29VbyL9rYKF"
      }
    },
    {
      "cell_type": "code",
      "execution_count": null,
      "metadata": {
        "id": "4qCPAAg-rXOd"
      },
      "outputs": [],
      "source": [
        "# Import statements \n",
        "from sklearn.tree import DecisionTreeClassifier\n",
        "from sklearn.metrics import accuracy_score\n",
        "import pandas as pd\n",
        "import numpy as np\n",
        "\n",
        "# Read the data.\n",
        "data = np.asarray(pd.read_csv('data.csv', header=None))\n",
        "# Assign the features to the variable X, and the labels to the variable y. \n",
        "X = data[:,0:2]\n",
        "y = data[:,2]\n",
        "\n",
        "# TODO: Create the decision tree model and assign it to the variable model.\n",
        "# You won't need to, but if you'd like, play with hyperparameters such\n",
        "# as max_depth and min_samples_leaf and see what they do to the decision\n",
        "# boundary.\n",
        "model = DecisionTreeClassifier(max_depth = 7, min_samples_leaf = 10)#default values give 100% accuracy\n",
        "\n",
        "# TODO: Fit the model.\n",
        "model.fit(X,y)\n",
        "# TODO: Make predictions. Store them in the variable y_pred.\n",
        "y_pred = model.predict(X)\n",
        "\n",
        "# TODO: Calculate the accuracy and assign it to the variable acc.\n",
        "acc = accuracy_score(y,y_pred)"
      ]
    }
  ]
}